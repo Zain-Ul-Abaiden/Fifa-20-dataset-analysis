{
 "cells": [
  {
   "cell_type": "code",
   "execution_count": 3,
   "id": "4f8fdc59-784c-499c-a1c4-5f5401838420",
   "metadata": {},
   "outputs": [],
   "source": [
    "import numpy as np\n",
    "import pandas as pd\n",
    "from matplotlib import pyplot as plt"
   ]
  },
  {
   "cell_type": "code",
   "execution_count": 7,
   "id": "59d766e4-e334-4efe-9428-60572dac0db9",
   "metadata": {},
   "outputs": [],
   "source": [
    "fifa = pd.read_csv('players_20.csv')"
   ]
  },
  {
   "cell_type": "code",
   "execution_count": 9,
   "id": "1cda3122-2fa6-4251-9b84-3d56706babe5",
   "metadata": {},
   "outputs": [
    {
     "data": {
      "text/html": [
       "<div>\n",
       "<style scoped>\n",
       "    .dataframe tbody tr th:only-of-type {\n",
       "        vertical-align: middle;\n",
       "    }\n",
       "\n",
       "    .dataframe tbody tr th {\n",
       "        vertical-align: top;\n",
       "    }\n",
       "\n",
       "    .dataframe thead th {\n",
       "        text-align: right;\n",
       "    }\n",
       "</style>\n",
       "<table border=\"1\" class=\"dataframe\">\n",
       "  <thead>\n",
       "    <tr style=\"text-align: right;\">\n",
       "      <th></th>\n",
       "      <th>sofifa_id</th>\n",
       "      <th>player_url</th>\n",
       "      <th>short_name</th>\n",
       "      <th>long_name</th>\n",
       "      <th>age</th>\n",
       "      <th>dob</th>\n",
       "      <th>height_cm</th>\n",
       "      <th>weight_kg</th>\n",
       "      <th>nationality</th>\n",
       "      <th>club</th>\n",
       "      <th>...</th>\n",
       "      <th>lwb</th>\n",
       "      <th>ldm</th>\n",
       "      <th>cdm</th>\n",
       "      <th>rdm</th>\n",
       "      <th>rwb</th>\n",
       "      <th>lb</th>\n",
       "      <th>lcb</th>\n",
       "      <th>cb</th>\n",
       "      <th>rcb</th>\n",
       "      <th>rb</th>\n",
       "    </tr>\n",
       "  </thead>\n",
       "  <tbody>\n",
       "    <tr>\n",
       "      <th>0</th>\n",
       "      <td>158023</td>\n",
       "      <td>https://sofifa.com/player/158023/lionel-messi/...</td>\n",
       "      <td>L. Messi</td>\n",
       "      <td>Lionel Andrés Messi Cuccittini</td>\n",
       "      <td>32</td>\n",
       "      <td>1987-06-24</td>\n",
       "      <td>170</td>\n",
       "      <td>72</td>\n",
       "      <td>Argentina</td>\n",
       "      <td>FC Barcelona</td>\n",
       "      <td>...</td>\n",
       "      <td>68+2</td>\n",
       "      <td>66+2</td>\n",
       "      <td>66+2</td>\n",
       "      <td>66+2</td>\n",
       "      <td>68+2</td>\n",
       "      <td>63+2</td>\n",
       "      <td>52+2</td>\n",
       "      <td>52+2</td>\n",
       "      <td>52+2</td>\n",
       "      <td>63+2</td>\n",
       "    </tr>\n",
       "    <tr>\n",
       "      <th>1</th>\n",
       "      <td>20801</td>\n",
       "      <td>https://sofifa.com/player/20801/c-ronaldo-dos-...</td>\n",
       "      <td>Cristiano Ronaldo</td>\n",
       "      <td>Cristiano Ronaldo dos Santos Aveiro</td>\n",
       "      <td>34</td>\n",
       "      <td>1985-02-05</td>\n",
       "      <td>187</td>\n",
       "      <td>83</td>\n",
       "      <td>Portugal</td>\n",
       "      <td>Juventus</td>\n",
       "      <td>...</td>\n",
       "      <td>65+3</td>\n",
       "      <td>61+3</td>\n",
       "      <td>61+3</td>\n",
       "      <td>61+3</td>\n",
       "      <td>65+3</td>\n",
       "      <td>61+3</td>\n",
       "      <td>53+3</td>\n",
       "      <td>53+3</td>\n",
       "      <td>53+3</td>\n",
       "      <td>61+3</td>\n",
       "    </tr>\n",
       "    <tr>\n",
       "      <th>2</th>\n",
       "      <td>190871</td>\n",
       "      <td>https://sofifa.com/player/190871/neymar-da-sil...</td>\n",
       "      <td>Neymar Jr</td>\n",
       "      <td>Neymar da Silva Santos Junior</td>\n",
       "      <td>27</td>\n",
       "      <td>1992-02-05</td>\n",
       "      <td>175</td>\n",
       "      <td>68</td>\n",
       "      <td>Brazil</td>\n",
       "      <td>Paris Saint-Germain</td>\n",
       "      <td>...</td>\n",
       "      <td>66+3</td>\n",
       "      <td>61+3</td>\n",
       "      <td>61+3</td>\n",
       "      <td>61+3</td>\n",
       "      <td>66+3</td>\n",
       "      <td>61+3</td>\n",
       "      <td>46+3</td>\n",
       "      <td>46+3</td>\n",
       "      <td>46+3</td>\n",
       "      <td>61+3</td>\n",
       "    </tr>\n",
       "    <tr>\n",
       "      <th>3</th>\n",
       "      <td>200389</td>\n",
       "      <td>https://sofifa.com/player/200389/jan-oblak/20/...</td>\n",
       "      <td>J. Oblak</td>\n",
       "      <td>Jan Oblak</td>\n",
       "      <td>26</td>\n",
       "      <td>1993-01-07</td>\n",
       "      <td>188</td>\n",
       "      <td>87</td>\n",
       "      <td>Slovenia</td>\n",
       "      <td>Atlético Madrid</td>\n",
       "      <td>...</td>\n",
       "      <td>NaN</td>\n",
       "      <td>NaN</td>\n",
       "      <td>NaN</td>\n",
       "      <td>NaN</td>\n",
       "      <td>NaN</td>\n",
       "      <td>NaN</td>\n",
       "      <td>NaN</td>\n",
       "      <td>NaN</td>\n",
       "      <td>NaN</td>\n",
       "      <td>NaN</td>\n",
       "    </tr>\n",
       "    <tr>\n",
       "      <th>4</th>\n",
       "      <td>183277</td>\n",
       "      <td>https://sofifa.com/player/183277/eden-hazard/2...</td>\n",
       "      <td>E. Hazard</td>\n",
       "      <td>Eden Hazard</td>\n",
       "      <td>28</td>\n",
       "      <td>1991-01-07</td>\n",
       "      <td>175</td>\n",
       "      <td>74</td>\n",
       "      <td>Belgium</td>\n",
       "      <td>Real Madrid</td>\n",
       "      <td>...</td>\n",
       "      <td>66+3</td>\n",
       "      <td>63+3</td>\n",
       "      <td>63+3</td>\n",
       "      <td>63+3</td>\n",
       "      <td>66+3</td>\n",
       "      <td>61+3</td>\n",
       "      <td>49+3</td>\n",
       "      <td>49+3</td>\n",
       "      <td>49+3</td>\n",
       "      <td>61+3</td>\n",
       "    </tr>\n",
       "  </tbody>\n",
       "</table>\n",
       "<p>5 rows × 104 columns</p>\n",
       "</div>"
      ],
      "text/plain": [
       "   sofifa_id                                         player_url  \\\n",
       "0     158023  https://sofifa.com/player/158023/lionel-messi/...   \n",
       "1      20801  https://sofifa.com/player/20801/c-ronaldo-dos-...   \n",
       "2     190871  https://sofifa.com/player/190871/neymar-da-sil...   \n",
       "3     200389  https://sofifa.com/player/200389/jan-oblak/20/...   \n",
       "4     183277  https://sofifa.com/player/183277/eden-hazard/2...   \n",
       "\n",
       "          short_name                            long_name  age         dob  \\\n",
       "0           L. Messi       Lionel Andrés Messi Cuccittini   32  1987-06-24   \n",
       "1  Cristiano Ronaldo  Cristiano Ronaldo dos Santos Aveiro   34  1985-02-05   \n",
       "2          Neymar Jr        Neymar da Silva Santos Junior   27  1992-02-05   \n",
       "3           J. Oblak                            Jan Oblak   26  1993-01-07   \n",
       "4          E. Hazard                          Eden Hazard   28  1991-01-07   \n",
       "\n",
       "   height_cm  weight_kg nationality                 club  ...   lwb   ldm  \\\n",
       "0        170         72   Argentina         FC Barcelona  ...  68+2  66+2   \n",
       "1        187         83    Portugal             Juventus  ...  65+3  61+3   \n",
       "2        175         68      Brazil  Paris Saint-Germain  ...  66+3  61+3   \n",
       "3        188         87    Slovenia      Atlético Madrid  ...   NaN   NaN   \n",
       "4        175         74     Belgium          Real Madrid  ...  66+3  63+3   \n",
       "\n",
       "    cdm   rdm   rwb    lb   lcb    cb   rcb    rb  \n",
       "0  66+2  66+2  68+2  63+2  52+2  52+2  52+2  63+2  \n",
       "1  61+3  61+3  65+3  61+3  53+3  53+3  53+3  61+3  \n",
       "2  61+3  61+3  66+3  61+3  46+3  46+3  46+3  61+3  \n",
       "3   NaN   NaN   NaN   NaN   NaN   NaN   NaN   NaN  \n",
       "4  63+3  63+3  66+3  61+3  49+3  49+3  49+3  61+3  \n",
       "\n",
       "[5 rows x 104 columns]"
      ]
     },
     "execution_count": 9,
     "metadata": {},
     "output_type": "execute_result"
    }
   ],
   "source": [
    "fifa.head()"
   ]
  },
  {
   "cell_type": "code",
   "execution_count": 21,
   "id": "acc3cea2-cd16-44a5-ac05-86bbf8224faa",
   "metadata": {},
   "outputs": [
    {
     "name": "stdout",
     "output_type": "stream",
     "text": [
      "sofifa_id\n",
      "player_url\n",
      "short_name\n",
      "long_name\n",
      "age\n",
      "dob\n",
      "height_cm\n",
      "weight_kg\n",
      "nationality\n",
      "club\n",
      "overall\n",
      "potential\n",
      "value_eur\n",
      "wage_eur\n",
      "player_positions\n",
      "preferred_foot\n",
      "international_reputation\n",
      "weak_foot\n",
      "skill_moves\n",
      "work_rate\n",
      "body_type\n",
      "real_face\n",
      "release_clause_eur\n",
      "player_tags\n",
      "team_position\n",
      "team_jersey_number\n",
      "loaned_from\n",
      "joined\n",
      "contract_valid_until\n",
      "nation_position\n",
      "nation_jersey_number\n",
      "pace\n",
      "shooting\n",
      "passing\n",
      "dribbling\n",
      "defending\n",
      "physic\n",
      "gk_diving\n",
      "gk_handling\n",
      "gk_kicking\n",
      "gk_reflexes\n",
      "gk_speed\n",
      "gk_positioning\n",
      "player_traits\n",
      "attacking_crossing\n",
      "attacking_finishing\n",
      "attacking_heading_accuracy\n",
      "attacking_short_passing\n",
      "attacking_volleys\n",
      "skill_dribbling\n",
      "skill_curve\n",
      "skill_fk_accuracy\n",
      "skill_long_passing\n",
      "skill_ball_control\n",
      "movement_acceleration\n",
      "movement_sprint_speed\n",
      "movement_agility\n",
      "movement_reactions\n",
      "movement_balance\n",
      "power_shot_power\n",
      "power_jumping\n",
      "power_stamina\n",
      "power_strength\n",
      "power_long_shots\n",
      "mentality_aggression\n",
      "mentality_interceptions\n",
      "mentality_positioning\n",
      "mentality_vision\n",
      "mentality_penalties\n",
      "mentality_composure\n",
      "defending_marking\n",
      "defending_standing_tackle\n",
      "defending_sliding_tackle\n",
      "goalkeeping_diving\n",
      "goalkeeping_handling\n",
      "goalkeeping_kicking\n",
      "goalkeeping_positioning\n",
      "goalkeeping_reflexes\n",
      "ls\n",
      "st\n",
      "rs\n",
      "lw\n",
      "lf\n",
      "cf\n",
      "rf\n",
      "rw\n",
      "lam\n",
      "cam\n",
      "ram\n",
      "lm\n",
      "lcm\n",
      "cm\n",
      "rcm\n",
      "rm\n",
      "lwb\n",
      "ldm\n",
      "cdm\n",
      "rdm\n",
      "rwb\n",
      "lb\n",
      "lcb\n",
      "cb\n",
      "rcb\n",
      "rb\n"
     ]
    }
   ],
   "source": [
    "for col in fifa.columns:\n",
    "    print(col)"
   ]
  },
  {
   "cell_type": "code",
   "execution_count": 23,
   "id": "9f5451fb-9023-460e-98b6-8b87b702637c",
   "metadata": {},
   "outputs": [
    {
     "data": {
      "text/plain": [
       "(18278, 104)"
      ]
     },
     "execution_count": 23,
     "metadata": {},
     "output_type": "execute_result"
    }
   ],
   "source": [
    "fifa.shape"
   ]
  },
  {
   "cell_type": "code",
   "execution_count": 25,
   "id": "e55ab442-ec5f-4da5-acde-9177beb38509",
   "metadata": {},
   "outputs": [
    {
     "data": {
      "text/plain": [
       "1900912"
      ]
     },
     "execution_count": 25,
     "metadata": {},
     "output_type": "execute_result"
    }
   ],
   "source": [
    "18278*104"
   ]
  },
  {
   "cell_type": "code",
   "execution_count": 27,
   "id": "09a453bd-962b-47be-aa89-6ae27dd6536d",
   "metadata": {},
   "outputs": [
    {
     "data": {
      "text/plain": [
       "0.09120253857095963"
      ]
     },
     "execution_count": 27,
     "metadata": {},
     "output_type": "execute_result"
    }
   ],
   "source": [
    "1667/18278"
   ]
  },
  {
   "cell_type": "code",
   "execution_count": 35,
   "id": "3b488576-ce35-4bfd-9010-046bcddb03f0",
   "metadata": {},
   "outputs": [
    {
     "data": {
      "text/plain": [
       "nationality\n",
       "England                1667\n",
       "Germany                1216\n",
       "Spain                  1035\n",
       "France                  984\n",
       "Argentina               886\n",
       "                       ... \n",
       "Liberia                   1\n",
       "São Tomé & Príncipe       1\n",
       "Puerto Rico               1\n",
       "Bahrain                   1\n",
       "Indonesia                 1\n",
       "Name: count, Length: 162, dtype: int64"
      ]
     },
     "execution_count": 35,
     "metadata": {},
     "output_type": "execute_result"
    }
   ],
   "source": [
    "fifa['nationality'].value_counts()"
   ]
  },
  {
   "cell_type": "code",
   "execution_count": 39,
   "id": "752d3090-f1e2-4d31-a55f-766e00c964d4",
   "metadata": {},
   "outputs": [
    {
     "data": {
      "text/plain": [
       "nationality\n",
       "England        1667\n",
       "Germany        1216\n",
       "Spain          1035\n",
       "France          984\n",
       "Argentina       886\n",
       "Brazil          824\n",
       "Italy           732\n",
       "Colombia        591\n",
       "Japan           453\n",
       "Netherlands     416\n",
       "Name: count, dtype: int64"
      ]
     },
     "execution_count": 39,
     "metadata": {},
     "output_type": "execute_result"
    }
   ],
   "source": [
    "fifa['nationality'].value_counts()[0:10]"
   ]
  },
  {
   "cell_type": "code",
   "execution_count": 41,
   "id": "60528242-c8ed-4f12-9e66-78e8635bd8d7",
   "metadata": {},
   "outputs": [
    {
     "data": {
      "text/plain": [
       "Index(['England', 'Germany', 'Spain', 'France', 'Argentina'], dtype='object', name='nationality')"
      ]
     },
     "execution_count": 41,
     "metadata": {},
     "output_type": "execute_result"
    }
   ],
   "source": [
    "fifa['nationality'].value_counts()[0:5].keys()"
   ]
  },
  {
   "cell_type": "code",
   "execution_count": 43,
   "id": "24401e96-df28-448c-ad92-fbfb3e6a65b1",
   "metadata": {},
   "outputs": [
    {
     "data": {
      "text/plain": [
       "nationality\n",
       "England      1667\n",
       "Germany      1216\n",
       "Spain        1035\n",
       "France        984\n",
       "Argentina     886\n",
       "Name: count, dtype: int64"
      ]
     },
     "execution_count": 43,
     "metadata": {},
     "output_type": "execute_result"
    }
   ],
   "source": [
    "fifa['nationality'].value_counts()[0:5]"
   ]
  },
  {
   "cell_type": "code",
   "execution_count": 73,
   "id": "384d17ec-2eb1-4fce-9bb6-09b468a7b23f",
   "metadata": {},
   "outputs": [
    {
     "data": {
      "image/png": "[encoded data removed]",
      "text/plain": [
       "<Figure size 500x600 with 1 Axes>"
      ]
     },
     "metadata": {},
     "output_type": "display_data"
    }
   ],
   "source": [
    "plt.figure(figsize=(5,6))\n",
    "plt.bar(list(fifa['nationality'].value_counts()[0:5].keys()),list(fifa['nationality'].value_counts()[0:5]))\n",
    "plt.show()"
   ]
  },
  {
   "cell_type": "code",
   "execution_count": null,
   "id": "8b0f146d-5f80-4c94-a7d0-afbf8a50b78a",
   "metadata": {},
   "outputs": [],
   "source": []
  }
 ],
 "metadata": {
  "kernelspec": {
   "display_name": "Python 3 (ipykernel)",
   "language": "python",
   "name": "python3"
  },
  "language_info": {
   "codemirror_mode": {
    "name": "ipython",
    "version": 3
   },
   "file_extension": ".py",
   "mimetype": "text/x-python",
   "name": "python",
   "nbconvert_exporter": "python",
   "pygments_lexer": "ipython3",
   "version": "3.12.7"
  }
 },
 "nbformat": 4,
 "nbformat_minor": 5
}
